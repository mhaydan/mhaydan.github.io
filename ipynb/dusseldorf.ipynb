# GIS: Data Factory, Exercise Submission (2021/2022 WiSe)
**Mehmet Haydan**, 
Matr.-Nr: 425949

#importing the necessary packages
import geopandas as gpd
import pandas as pd
import numpy as np
import matplotlib.pyplot as plt

#loading the dataset containing the locations of the schools (up to secondary level) in Düsseldorf. The file format is .geojson and it is a point data.
schools = gpd.read_file("./data/Mehmet_new/Schulen in Düsseldorf_1.geojson")

#the data is shown in the table by using the plot function of GeoPandas Dataframe. First fifteen rows were printed to check if there is any unexpected errors accured. 
schools.head(15)

#loading the dataset containing the locations of the schools (up to secondary level) in Düsseldorf. The file format is .geojson and it is a point data.
schools = gpd.read_file("./data/Mehmet_new/Schulen in Düsseldorf_1.geojson")

#the data is shown in the table by using the plot function of GeoPandas Dataframe. First fifteen rows were printed to check if there is any unexpected errors accured. 
schools.head(15)

#the center of the open street map is set to the central coordinates of Düsserdorf.
center = (51.2277, 6.7735)

#map information is defined, location is set for the center.
m = Map(basemap=basemaps.Esri.WorldImagery, center=center, zoom=12)

#locations of the icons are set. The specific locations for these 3 points were selected to demonstrate the oldest schools in Düsseldorf. 
#Their names and years of foundation were researched separately.
oldest_school_1 = (51.22122, 6.77814)
oldest_school_2 = (51.229742, 6.772765)
oldest_school_3 = (51.2216499, 6.77611)

#to visualize the oldest schools, an icon is defined and related settings are set such as size, anchor point etc.
icon1 = Icon(icon_url='https://cdn2.iconfinder.com/data/icons/maps-and-locations/12/school-512.png', icon_size=[40, 40], icon_anchor=[0,0])
icon2 = Icon(icon_url='https://cdn2.iconfinder.com/data/icons/maps-and-locations/12/school-512.png', icon_size=[40, 40], icon_anchor=[0,0])
icon3 = Icon(icon_url='https://cdn2.iconfinder.com/data/icons/maps-and-locations/12/school-512.png', icon_size=[40, 40], icon_anchor=[0,0])

#markers are created for placing them in the open street map, informations related to their locations and appearances were connected to the previous steps.
mark1 = Marker(location=oldest_school_1, draggable=False, icon=icon1)
mark2 = Marker(location=oldest_school_2, draggable=False, icon=icon2)
mark3 = Marker(location=oldest_school_3, draggable=False, icon=icon3)

#icons are added to the map function
m.add_layer(mark1)
m.add_layer(mark2)
m.add_layer(mark3)

#geodata function is defined with the 'schools' dataframe which is connected to the original data source of .geojson and marker settings are set for all locations.
geo_data = GeoData(geo_dataframe= schools, style={'color': 'black', 'fillColor': '#3c758c', 'opacity':0.05, 'weight':1.9, 'dashArray':'2', 'fillOpacity':0.6})

#because the amount of the point data is more than +150, marker cluster function is defined. The icons are also included to the cluster.
marker_cluster = MarkerCluster(
    markers=(mark1, mark2, mark3, geo_data)
)

#marker cluster is added to the map function
m.add_layer(marker_cluster)

#to define a popup function for 3 oldest school, firstly the messages and their values are created. 
#Each message represents the names of the schools and their faundation years. (links to the sources can be found in the .zip)
message1 = HTML()
message1.value = "Görres-Gymnasium (1545)"
message2 = HTML()
message2.value = "St.-Ursula-Gymnasium (1677)"
message3 = HTML()
message3.value = "Luisen-Gymnasium (1837)"

#popup function is defined for the each icon location separately.
popup1 = Popup(
    location=oldest_school_1,
    close_button=False,
    auto_close=False,
    close_on_escape_key=False
)

popup2 = Popup(
    location=oldest_school_2,
    close_button=False,
    auto_close=False,
    close_on_escape_key=False
)

popup3 = Popup(
    location=oldest_school_3,
    close_button=False,
    auto_close=False,
    close_on_escape_key=False
)

#each icon is connected to their defined messages
mark1.popup = message1
mark2.popup = message2
mark3.popup = message3

#popups are added to the map function
m.add_layer(popup1)
m.add_layer(popup2)
m.add_layer(popup3)

#final result
m
